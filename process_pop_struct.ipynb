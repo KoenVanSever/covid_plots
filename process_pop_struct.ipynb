{
 "cells": [
  {
   "cell_type": "markdown",
   "metadata": {},
   "source": [
    "# Process Population Structure xlsx"
   ]
  },
  {
   "cell_type": "markdown",
   "metadata": {},
   "source": [
    "## Loading excel and saving pickle"
   ]
  },
  {
   "cell_type": "code",
   "execution_count": 52,
   "metadata": {},
   "outputs": [],
   "source": [
    "df = pd.read_excel(\"TF_SOC_POP_STRUCT_2020.xlsx\")\n",
    "df.to_pickle(\"TF_SOC_POP_STRUCT_2020.pkl\") # optional compression, but local memory so not necessary"
   ]
  },
  {
   "cell_type": "markdown",
   "metadata": {},
   "source": [
    "## Processing raw dataset"
   ]
  },
  {
   "cell_type": "markdown",
   "metadata": {},
   "source": [
    "### Remove unwatned rows"
   ]
  },
  {
   "cell_type": "code",
   "execution_count": 162,
   "metadata": {},
   "outputs": [],
   "source": [
    "filtered = df.filter(regex = \"[^F][^R]$\").filter(regex = \".*_(?!(.*REFNIS))\")\n",
    "filtered.drop([\"TX_NATLTY_NL\", \"CD_CIV_STS\"], axis = 1, inplace = True)"
   ]
  },
  {
   "cell_type": "markdown",
   "metadata": {},
   "source": [
    "### Rename columns"
   ]
  },
  {
   "cell_type": "code",
   "execution_count": 163,
   "metadata": {},
   "outputs": [],
   "source": [
    "rename_dict = {\"TX_DESCR_NL\": \"city_name\", \"TX_ADM_DSTR_DESCR_NL\": \"arrondissement_name\", \"TX_PROV_DESCR_NL\": \"province_name\",\n",
    "               \"TX_RGN_DESCR_NL\": \"region_name\", \"CD_SEX\": \"sex\", \"CD_NATLTY\": \"nat\", \"TX_CIV_STS_NL\": \"civil_status\",\n",
    "               \"CD_AGE\": \"age\", \"MS_POPULATION\": \"pop\" }\n",
    "filtered = filtered.rename(rename_dict, axis = 1)"
   ]
  },
  {
   "cell_type": "markdown",
   "metadata": {},
   "source": [
    "### Readjust data and datatypes"
   ]
  },
  {
   "cell_type": "code",
   "execution_count": 168,
   "metadata": {},
   "outputs": [],
   "source": [
    "filtered[\"arrondissement_name\"] = filtered[\"arrondissement_name\"].apply(lambda x: x.replace(\"Arrondissement \", \"\"))\n",
    "filtered[\"province_name\"] = filtered[\"province_name\"].apply(lambda x: x.replace(\"Provincie \", \"\"))\n",
    "filtered = filtered.convert_dtypes()\n",
    "cat_dict = {\"city_name\": \"category\", \"arrondissement_name\": \"category\", \"province_name\": \"category\", \"region_name\": \"category\", \"sex\": \"category\",\n",
    "           \"civil_status\": \"category\", \"nat\": \"category\"}\n",
    "filtered = filtered.astype(cat_dict)"
   ]
  },
  {
   "cell_type": "markdown",
   "metadata": {},
   "source": [
    "## Export processed dataset to pickle"
   ]
  },
  {
   "cell_type": "code",
   "execution_count": 170,
   "metadata": {},
   "outputs": [],
   "source": [
    "filtered.to_pickle(\"population_BE_2020_processed.pkl\")"
   ]
  },
  {
   "cell_type": "markdown",
   "metadata": {},
   "source": [
    "## Playground"
   ]
  },
  {
   "cell_type": "code",
   "execution_count": 171,
   "metadata": {},
   "outputs": [],
   "source": [
    "play = filtered"
   ]
  },
  {
   "cell_type": "code",
   "execution_count": 178,
   "metadata": {},
   "outputs": [],
   "source": [
    "mpl.rcParams[\"figure.figsize\"] = 10, 8\n",
    "mpl.style.use(\"ggplot\")"
   ]
  },
  {
   "cell_type": "code",
   "execution_count": 176,
   "metadata": {},
   "outputs": [
    {
     "data": {
      "text/html": [
       "<div>\n",
       "<style scoped>\n",
       "    .dataframe tbody tr th:only-of-type {\n",
       "        vertical-align: middle;\n",
       "    }\n",
       "\n",
       "    .dataframe tbody tr th {\n",
       "        vertical-align: top;\n",
       "    }\n",
       "\n",
       "    .dataframe thead th {\n",
       "        text-align: right;\n",
       "    }\n",
       "</style>\n",
       "<table border=\"1\" class=\"dataframe\">\n",
       "  <thead>\n",
       "    <tr style=\"text-align: right;\">\n",
       "      <th>age</th>\n",
       "      <th>0</th>\n",
       "      <th>1</th>\n",
       "      <th>2</th>\n",
       "      <th>3</th>\n",
       "      <th>4</th>\n",
       "      <th>5</th>\n",
       "      <th>6</th>\n",
       "      <th>7</th>\n",
       "      <th>8</th>\n",
       "      <th>9</th>\n",
       "      <th>...</th>\n",
       "      <th>102</th>\n",
       "      <th>103</th>\n",
       "      <th>104</th>\n",
       "      <th>105</th>\n",
       "      <th>106</th>\n",
       "      <th>107</th>\n",
       "      <th>108</th>\n",
       "      <th>109</th>\n",
       "      <th>110</th>\n",
       "      <th>111</th>\n",
       "    </tr>\n",
       "    <tr>\n",
       "      <th>sex</th>\n",
       "      <th></th>\n",
       "      <th></th>\n",
       "      <th></th>\n",
       "      <th></th>\n",
       "      <th></th>\n",
       "      <th></th>\n",
       "      <th></th>\n",
       "      <th></th>\n",
       "      <th></th>\n",
       "      <th></th>\n",
       "      <th></th>\n",
       "      <th></th>\n",
       "      <th></th>\n",
       "      <th></th>\n",
       "      <th></th>\n",
       "      <th></th>\n",
       "      <th></th>\n",
       "      <th></th>\n",
       "      <th></th>\n",
       "      <th></th>\n",
       "      <th></th>\n",
       "    </tr>\n",
       "  </thead>\n",
       "  <tbody>\n",
       "    <tr>\n",
       "      <th>F</th>\n",
       "      <td>57524</td>\n",
       "      <td>58346</td>\n",
       "      <td>59234</td>\n",
       "      <td>60530</td>\n",
       "      <td>61387</td>\n",
       "      <td>62860</td>\n",
       "      <td>63286</td>\n",
       "      <td>64997</td>\n",
       "      <td>65568</td>\n",
       "      <td>66705</td>\n",
       "      <td>...</td>\n",
       "      <td>188</td>\n",
       "      <td>137</td>\n",
       "      <td>69</td>\n",
       "      <td>69</td>\n",
       "      <td>22</td>\n",
       "      <td>12</td>\n",
       "      <td>7</td>\n",
       "      <td>2</td>\n",
       "      <td>3</td>\n",
       "      <td>4</td>\n",
       "    </tr>\n",
       "    <tr>\n",
       "      <th>M</th>\n",
       "      <td>59640</td>\n",
       "      <td>60764</td>\n",
       "      <td>61849</td>\n",
       "      <td>63523</td>\n",
       "      <td>64141</td>\n",
       "      <td>66207</td>\n",
       "      <td>66434</td>\n",
       "      <td>67770</td>\n",
       "      <td>68586</td>\n",
       "      <td>69717</td>\n",
       "      <td>...</td>\n",
       "      <td>25</td>\n",
       "      <td>16</td>\n",
       "      <td>8</td>\n",
       "      <td>8</td>\n",
       "      <td>2</td>\n",
       "      <td>2</td>\n",
       "      <td>1</td>\n",
       "      <td>0</td>\n",
       "      <td>0</td>\n",
       "      <td>0</td>\n",
       "    </tr>\n",
       "  </tbody>\n",
       "</table>\n",
       "<p>2 rows × 112 columns</p>\n",
       "</div>"
      ],
      "text/plain": [
       "age    0      1      2      3      4      5      6      7      8      9    \\\n",
       "sex                                                                         \n",
       "F    57524  58346  59234  60530  61387  62860  63286  64997  65568  66705   \n",
       "M    59640  60764  61849  63523  64141  66207  66434  67770  68586  69717   \n",
       "\n",
       "age  ...  102  103  104  105  106  107  108  109  110  111  \n",
       "sex  ...                                                    \n",
       "F    ...  188  137   69   69   22   12    7    2    3    4  \n",
       "M    ...   25   16    8    8    2    2    1    0    0    0  \n",
       "\n",
       "[2 rows x 112 columns]"
      ]
     },
     "execution_count": 176,
     "metadata": {},
     "output_type": "execute_result"
    }
   ],
   "source": [
    "sex_vs_age = play.pivot_table(index = \"sex\", columns = [\"age\"], values = \"pop\", aggfunc = np.sum)\n",
    "sex_vs_age.fillna(0, inplace = True)\n",
    "sex_vs_age"
   ]
  },
  {
   "cell_type": "code",
   "execution_count": 243,
   "metadata": {},
   "outputs": [
    {
     "data": {
      "text/plain": [
       "<AxesSubplot:xlabel='age', ylabel='pop'>"
      ]
     },
     "execution_count": 243,
     "metadata": {},
     "output_type": "execute_result"
    },
    {
     "data": {
      "text/plain": [
       "<Figure size 720x576 with 0 Axes>"
      ]
     },
     "metadata": {},
     "output_type": "display_data"
    },
    {
     "data": {
      "image/png": "[encoded data removed]",
      "text/plain": [
       "<Figure size 720x576 with 1 Axes>"
      ]
     },
     "metadata": {},
     "output_type": "display_data"
    }
   ],
   "source": [
    "plt.clf()\n",
    "fig, ax = plt.subplots()\n",
    "unstacked = sex_vs_age.unstack().reset_index().rename({\"level_1\": \"sex\", 0: \"pop\"}, axis = 1)\n",
    "# sns.histplot(data = unstacked, x = \"age\", hue = \"sex\", y = \"pop\", multiple=\"fill\", bins = unstacked.age.max())\n",
    "sns.barplot(data = unstacked, x = \"age\", y = \"pop\", hue = \"sex\")"
   ]
  },
  {
   "cell_type": "code",
   "execution_count": 272,
   "metadata": {},
   "outputs": [
    {
     "data": {
      "text/plain": [
       "<AxesSubplot:xlabel='age', ylabel='pop'>"
      ]
     },
     "execution_count": 272,
     "metadata": {},
     "output_type": "execute_result"
    },
    {
     "data": {
      "image/png": "[encoded data removed]",
      "text/plain": [
       "<Figure size 720x576 with 1 Axes>"
      ]
     },
     "metadata": {},
     "output_type": "display_data"
    }
   ],
   "source": [
    "age_cat = pd.DataFrame()\n",
    "for k, v in sex_vs_age.iteritems():\n",
    "    if int(k) % 10 == 0:\n",
    "        age_cat[k//10] = v\n",
    "    elif int(k) % 10 == 9:\n",
    "        age_cat[k//10] += v\n",
    "        rename_dict = {(k//10): f\"{k-9}-{k}\"}\n",
    "        age_cat.rename(rename_dict, axis = 1, inplace = True)\n",
    "    else:\n",
    "        age_cat[k//10] += v\n",
    "age_cat[\"90+\"] = age_cat[\"90-99\"] + age_cat[\"100-109\"] + age_cat[11]\n",
    "age_cat.drop([\"90-99\", \"100-109\", 11], axis = 1, inplace = True)\n",
    "age_cat\n",
    "unstacked = age_cat.unstack().reset_index().rename({\"level_1\": \"sex\", \"level_0\": \"age\", 0: \"pop\"}, axis = 1)\n",
    "sns.barplot(data = unstacked, x = \"age\", y = \"pop\", hue = \"sex\")"
   ]
  }
 ],
 "metadata": {
  "kernelspec": {
   "display_name": "dataenv",
   "language": "python",
   "name": "dataenv"
  },
  "language_info": {
   "codemirror_mode": {
    "name": "ipython",
    "version": 3
   },
   "file_extension": ".py",
   "mimetype": "text/x-python",
   "name": "python",
   "nbconvert_exporter": "python",
   "pygments_lexer": "ipython3",
   "version": "3.8.5"
  }
 },
 "nbformat": 4,
 "nbformat_minor": 4
}
